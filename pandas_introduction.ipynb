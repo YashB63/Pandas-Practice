{
 "cells": [
  {
   "cell_type": "code",
   "execution_count": null,
   "metadata": {},
   "outputs": [],
   "source": [
    "#In computer programming, pandas is a software library written for the \n",
    "#Python programming language for data manipulation and analysis. \n",
    "# In particular, it offers data structurres and operations for manipulating\n",
    "#numerical tables and time series"
   ]
  },
  {
   "cell_type": "code",
   "execution_count": null,
   "metadata": {},
   "outputs": [],
   "source": [
    "#Pandas main Data-Structures\n",
    "\n",
    "#1. Dataframes\n",
    "\n",
    "#2. Series"
   ]
  }
 ],
 "metadata": {
  "language_info": {
   "name": "python"
  },
  "orig_nbformat": 4
 },
 "nbformat": 4,
 "nbformat_minor": 2
}
